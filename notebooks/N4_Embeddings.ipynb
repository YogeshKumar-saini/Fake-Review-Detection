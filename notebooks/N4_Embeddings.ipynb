{
 "cells": [
  {
   "cell_type": "code",
   "execution_count": 4,
   "metadata": {},
   "outputs": [
    {
     "name": "stderr",
     "output_type": "stream",
     "text": [
      "[nltk_data] Downloading package punkt to /home/yogesh/nltk_data...\n",
      "[nltk_data]   Package punkt is already up-to-date!\n"
     ]
    },
    {
     "data": {
      "text/plain": [
       "True"
      ]
     },
     "execution_count": 4,
     "metadata": {},
     "output_type": "execute_result"
    }
   ],
   "source": [
    "import os\n",
    "import pandas as pd\n",
    "import numpy as np\n",
    "import nltk\n",
    "from nltk.tokenize import word_tokenize\n",
    "from sklearn.feature_extraction.text import TfidfVectorizer\n",
    "from sentence_transformers import SentenceTransformer\n",
    "\n",
    "nltk.download('punkt')"
   ]
  },
  {
   "cell_type": "code",
   "execution_count": 6,
   "metadata": {},
   "outputs": [
    {
     "name": "stdout",
     "output_type": "stream",
     "text": [
      "TF-IDF embeddings saved: /home/yogesh/mlops/Mlop Projects/Fake Review Detection/data/embeddings/preprocessed_lemmatization_tfidf.csv\n"
     ]
    },
    {
     "data": {
      "application/vnd.jupyter.widget-view+json": {
       "model_id": "e017b1ce6fb84a49bfaabc3d07711360",
       "version_major": 2,
       "version_minor": 0
      },
      "text/plain": [
       "Batches:   0%|          | 0/1264 [00:00<?, ?it/s]"
      ]
     },
     "metadata": {},
     "output_type": "display_data"
    },
    {
     "name": "stdout",
     "output_type": "stream",
     "text": [
      "BERT embeddings saved: /home/yogesh/mlops/Mlop Projects/Fake Review Detection/data/embeddings/preprocessed_lemmatization_bert.csv\n",
      "GloVe embeddings saved: /home/yogesh/mlops/Mlop Projects/Fake Review Detection/data/embeddings/preprocessed_lemmatization_glove.csv\n",
      "TF-IDF embeddings saved: /home/yogesh/mlops/Mlop Projects/Fake Review Detection/data/embeddings/preprocessed_no_stopwords_tfidf.csv\n"
     ]
    },
    {
     "data": {
      "application/vnd.jupyter.widget-view+json": {
       "model_id": "f8de4f04a80b431eb475e85d6666a338",
       "version_major": 2,
       "version_minor": 0
      },
      "text/plain": [
       "Batches:   0%|          | 0/1264 [00:00<?, ?it/s]"
      ]
     },
     "metadata": {},
     "output_type": "display_data"
    },
    {
     "name": "stdout",
     "output_type": "stream",
     "text": [
      "BERT embeddings saved: /home/yogesh/mlops/Mlop Projects/Fake Review Detection/data/embeddings/preprocessed_no_stopwords_bert.csv\n",
      "GloVe embeddings saved: /home/yogesh/mlops/Mlop Projects/Fake Review Detection/data/embeddings/preprocessed_no_stopwords_glove.csv\n",
      "TF-IDF embeddings saved: /home/yogesh/mlops/Mlop Projects/Fake Review Detection/data/embeddings/preprocessed_stemming_tfidf.csv\n"
     ]
    },
    {
     "data": {
      "application/vnd.jupyter.widget-view+json": {
       "model_id": "01cafcf9c550492fbd24a4f8bae523de",
       "version_major": 2,
       "version_minor": 0
      },
      "text/plain": [
       "Batches:   0%|          | 0/1264 [00:00<?, ?it/s]"
      ]
     },
     "metadata": {},
     "output_type": "display_data"
    },
    {
     "name": "stdout",
     "output_type": "stream",
     "text": [
      "BERT embeddings saved: /home/yogesh/mlops/Mlop Projects/Fake Review Detection/data/embeddings/preprocessed_stemming_bert.csv\n",
      "GloVe embeddings saved: /home/yogesh/mlops/Mlop Projects/Fake Review Detection/data/embeddings/preprocessed_stemming_glove.csv\n",
      "TF-IDF embeddings saved: /home/yogesh/mlops/Mlop Projects/Fake Review Detection/data/embeddings/preprocessed_stemming_no_stopwords_tfidf.csv\n"
     ]
    },
    {
     "data": {
      "application/vnd.jupyter.widget-view+json": {
       "model_id": "108cab4cce2941df896ce4970ea8e890",
       "version_major": 2,
       "version_minor": 0
      },
      "text/plain": [
       "Batches:   0%|          | 0/1264 [00:00<?, ?it/s]"
      ]
     },
     "metadata": {},
     "output_type": "display_data"
    },
    {
     "name": "stdout",
     "output_type": "stream",
     "text": [
      "BERT embeddings saved: /home/yogesh/mlops/Mlop Projects/Fake Review Detection/data/embeddings/preprocessed_stemming_no_stopwords_bert.csv\n",
      "GloVe embeddings saved: /home/yogesh/mlops/Mlop Projects/Fake Review Detection/data/embeddings/preprocessed_stemming_no_stopwords_glove.csv\n",
      "TF-IDF embeddings saved: /home/yogesh/mlops/Mlop Projects/Fake Review Detection/data/embeddings/preprocessed_no_stopwords_no_lemmatization_tfidf.csv\n"
     ]
    },
    {
     "data": {
      "application/vnd.jupyter.widget-view+json": {
       "model_id": "3276f0094bea4fa3ab236ade1ef05079",
       "version_major": 2,
       "version_minor": 0
      },
      "text/plain": [
       "Batches:   0%|          | 0/1264 [00:00<?, ?it/s]"
      ]
     },
     "metadata": {},
     "output_type": "display_data"
    },
    {
     "name": "stdout",
     "output_type": "stream",
     "text": [
      "BERT embeddings saved: /home/yogesh/mlops/Mlop Projects/Fake Review Detection/data/embeddings/preprocessed_no_stopwords_no_lemmatization_bert.csv\n",
      "GloVe embeddings saved: /home/yogesh/mlops/Mlop Projects/Fake Review Detection/data/embeddings/preprocessed_no_stopwords_no_lemmatization_glove.csv\n",
      "All embeddings computed and saved in folder: /home/yogesh/mlops/Mlop Projects/Fake Review Detection/data/embeddings\n"
     ]
    }
   ],
   "source": [
    "preprocessed_dir = \"/home/yogesh/mlops/Mlop Projects/Fake Review Detection/data/processed\"\n",
    "embeddings_dir = \"/home/yogesh/mlops/Mlop Projects/Fake Review Detection/data/embeddings\"\n",
    "os.makedirs(embeddings_dir, exist_ok=True)\n",
    "\n",
    "dataset_names = [\n",
    "    \"preprocessed_lemmatization\",\n",
    "    \"preprocessed_no_stopwords\",\n",
    "    \"preprocessed_stemming\",\n",
    "    \"preprocessed_stemming_no_stopwords\",\n",
    "    \"preprocessed_no_stopwords_no_lemmatization\",\n",
    "]\n",
    "\n",
    "def compute_tfidf(texts, dataset_name):\n",
    "    vectorizer = TfidfVectorizer(max_features=5000)\n",
    "    X = vectorizer.fit_transform(texts)\n",
    "    df_tfidf = pd.DataFrame(X.toarray(), columns=vectorizer.get_feature_names_out())\n",
    "    output_file = os.path.join(embeddings_dir, f\"{dataset_name}_tfidf.csv\")\n",
    "    df_tfidf.to_csv(output_file, index=False)\n",
    "    print(f\"TF-IDF embeddings saved: {output_file}\")\n",
    "\n",
    "def compute_bert_embeddings(texts, dataset_name, model_name=\"all-MiniLM-L6-v2\"):\n",
    "    model = SentenceTransformer(model_name)\n",
    "    embeddings = model.encode(texts, show_progress_bar=True)\n",
    "    df_bert = pd.DataFrame(embeddings)\n",
    "    output_file = os.path.join(embeddings_dir, f\"{dataset_name}_bert.csv\")\n",
    "    df_bert.to_csv(output_file, index=False)\n",
    "    print(f\"BERT embeddings saved: {output_file}\")\n",
    "\n",
    "def load_glove_embeddings(glove_file_path):\n",
    "    embeddings_index = {}\n",
    "    with open(glove_file_path, encoding='utf8') as f:\n",
    "        for line in f:\n",
    "            values = line.split()\n",
    "            word = values[0]\n",
    "            coefs = np.asarray(values[1:], dtype='float32')\n",
    "            embeddings_index[word] = coefs\n",
    "    return embeddings_index\n",
    "\n",
    "def compute_glove_embeddings(texts, dataset_name, glove_file_path=\"/home/yogesh/mlops/Mlop Projects/Fake Review Detection/data/grove_data/glove.6B.100d.txt\", embedding_dim=100):\n",
    "    glove_embeddings = load_glove_embeddings(glove_file_path)\n",
    "    sentence_embeddings = []\n",
    "    for text in texts:\n",
    "        tokens = word_tokenize(text.lower())\n",
    "        valid_embeddings = [glove_embeddings[word] for word in tokens if word in glove_embeddings]\n",
    "        if valid_embeddings:\n",
    "            sent_vec = np.mean(valid_embeddings, axis=0)\n",
    "        else:\n",
    "            sent_vec = np.zeros(embedding_dim)\n",
    "        sentence_embeddings.append(sent_vec)\n",
    "    df_glove = pd.DataFrame(sentence_embeddings)\n",
    "    output_file = os.path.join(embeddings_dir, f\"{dataset_name}_glove.csv\")\n",
    "    df_glove.to_csv(output_file, index=False)\n",
    "    print(f\"GloVe embeddings saved: {output_file}\")\n",
    "\n",
    "for dataset_name in dataset_names:\n",
    "    file_path = os.path.join(preprocessed_dir, f\"{dataset_name}.csv\")\n",
    "    df = pd.read_csv(file_path)\n",
    "    texts = df[\"processed_text\"].fillna(\"\").astype(str).tolist()\n",
    "    \n",
    "    compute_tfidf(texts, dataset_name)\n",
    "    compute_bert_embeddings(texts, dataset_name)\n",
    "    compute_glove_embeddings(texts, dataset_name)\n",
    "\n",
    "print(\"All embeddings computed and saved in folder:\", embeddings_dir)"
   ]
  },
  {
   "cell_type": "code",
   "execution_count": null,
   "metadata": {},
   "outputs": [],
   "source": []
  }
 ],
 "metadata": {
  "kernelspec": {
   "display_name": "python_env",
   "language": "python",
   "name": "python3"
  },
  "language_info": {
   "codemirror_mode": {
    "name": "ipython",
    "version": 3
   },
   "file_extension": ".py",
   "mimetype": "text/x-python",
   "name": "python",
   "nbconvert_exporter": "python",
   "pygments_lexer": "ipython3",
   "version": "3.10.12"
  }
 },
 "nbformat": 4,
 "nbformat_minor": 2
}
